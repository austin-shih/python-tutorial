{
 "cells": [
  {
   "cell_type": "markdown",
   "metadata": {},
   "source": [
    "## Instructions\n",
    "1. Create a branch from the remote repo and switch to working in your new branch\n",
    "2. Create a copy of this notebook and name it `basics_yourname.ipynb`\n",
    "2. Finish the workbook\n",
    "3. Add, commit, and push your changes using Git Bash\n",
    "4. Go to the GitHub repo and initiate a pull request "
   ]
  },
  {
   "cell_type": "markdown",
   "metadata": {},
   "source": [
    "## Loops & Functions"
   ]
  },
  {
   "cell_type": "markdown",
   "metadata": {},
   "source": [
    "1. Given the list `numbers` below, use a `for` loop and `if/else` statement that squares the even numbers, and cubes the odd numbers in `numbers`. Write a function that does this operation and save the new list of numbers in a object called `numbers_mod`.\n",
    "\n",
    "answer: `[1, 16, 343, 100]`"
   ]
  },
  {
   "cell_type": "code",
   "execution_count": 5,
   "metadata": {},
   "outputs": [
    {
     "name": "stdout",
     "output_type": "stream",
     "text": [
      "[1, 16, 343, 100]\n"
     ]
    }
   ],
   "source": [
    "numbers = [1, 4, 7, 10]\n",
    "numbers_mod = []\n",
    "\n",
    "for i in numbers:\n",
    "    if i % 2 == 0:\n",
    "        numbers_mod.append(i**2)\n",
    "    else:\n",
    "        numbers_mod.append(i**3)\n",
    "        \n",
    "print(numbers_mod)"
   ]
  },
  {
   "cell_type": "markdown",
   "metadata": {},
   "source": [
    "2. Given this `sentence`: _\"Make this sentence more Pythonic!\"_, write a function to do the following:\n",
    "\n",
    "    1. Make all letters lowercase; \n",
    "    2. Replace spaces with underscores (`_`);\n",
    "    3. Remove these punctuation marks: `!`, `?`, `,` (comma), `'` (apostrophe)\n",
    "\n",
    "answer: `make_this_sentence_more_pythonic`"
   ]
  },
  {
   "cell_type": "code",
   "execution_count": 4,
   "metadata": {},
   "outputs": [
    {
     "name": "stdout",
     "output_type": "stream",
     "text": [
      "make_this_sentence_more_pythonic\n"
     ]
    }
   ],
   "source": [
    "sentence = \"Make this sentence more Pythonic!\"\n",
    "\n",
    "def pythonic(sentence):\n",
    "    sentence = sentence.lower()\n",
    "    sentence = sentence.replace(' ', '_')\n",
    "    for char in ['!', '?', ',', \"'\"]:\n",
    "        sentence = sentence.replace(char, '')\n",
    "    return sentence\n",
    "\n",
    "result=pythonic(sentence)\n",
    "print(result)\n"
   ]
  },
  {
   "cell_type": "markdown",
   "metadata": {},
   "source": [
    "3. Write a function that removes all duplicate items of a list, sorts the list in descending order, and finally returns it. \n",
    "\n",
    "answer: `[6, 5, 4, 3, 2, 1]`"
   ]
  },
  {
   "cell_type": "code",
   "execution_count": 6,
   "metadata": {},
   "outputs": [
    {
     "name": "stdout",
     "output_type": "stream",
     "text": [
      "[6, 5, 4, 3, 2, 1]\n"
     ]
    }
   ],
   "source": [
    "q3_list = [1, 1, 1, 2, 3, 4, 5, 5, 5, 6]\n",
    "\n",
    "def unique_list(q3_list):\n",
    "    q3_list = list(set(q3_list))\n",
    "    q3_list.sort(reverse=True)\n",
    "    return q3_list\n",
    "    \n",
    "result = unique_list(q3_list)\n",
    "print(result)"
   ]
  },
  {
   "cell_type": "markdown",
   "metadata": {},
   "source": [
    "4. Write a function that finds the minimum and maximum values stored inside a list of numerical values. Return as a tuple.\n",
    "\n",
    "answer: `(-100, 323)`"
   ]
  },
  {
   "cell_type": "code",
   "execution_count": 9,
   "metadata": {},
   "outputs": [
    {
     "name": "stdout",
     "output_type": "stream",
     "text": [
      "(-100, 323)\n"
     ]
    }
   ],
   "source": [
    "numbers = [123, 4, 323, -0.3, 5, 15, -9, -100, 0, 5]\n",
    "def min_max_values(numbers):\n",
    "    minimum = min(numbers)\n",
    "    maximum = max(numbers)\n",
    "    return (minimum, maximum)\n",
    "\n",
    "result = min_max_values(numbers)\n",
    "print(result)"
   ]
  },
  {
   "cell_type": "markdown",
   "metadata": {},
   "source": [
    "5. Write a function that inserts a value in a list at a particular index.\n",
    "\n",
    "answer: `[3, 299, 387, 'item', 492, -398]`"
   ]
  },
  {
   "cell_type": "code",
   "execution_count": 10,
   "metadata": {},
   "outputs": [
    {
     "name": "stdout",
     "output_type": "stream",
     "text": [
      "[3, 299, 387, 'item', 492, -398]\n"
     ]
    }
   ],
   "source": [
    "init_list = [3, 299, 387, 492, -398]\n",
    "value = 'item'\n",
    "index = 3\n",
    "\n",
    "def insert_item(init_list,value,index):\n",
    "    init_list.insert(int(index),str(value))\n",
    "    return(init_list)\n",
    "\n",
    "result = insert_item(init_list,value,index)\n",
    "print(result)"
   ]
  },
  {
   "cell_type": "markdown",
   "metadata": {},
   "source": [
    "6. Write a function that counts the number of occurrences in a list. Return a dictionary with the 'keys' being each of the unique element in the list and the 'values' being the number of occurrences.\n",
    "\n",
    "answer: `{1:3, 2:1, 3:1, 4:1, 5:3, 6:1}`"
   ]
  },
  {
   "cell_type": "code",
   "execution_count": 11,
   "metadata": {},
   "outputs": [
    {
     "name": "stdout",
     "output_type": "stream",
     "text": [
      "{1: 3, 2: 1, 3: 1, 4: 1, 5: 3, 6: 1}\n"
     ]
    }
   ],
   "source": [
    "q6_list = [1, 1, 1, 2, 3, 4, 5, 5, 5, 6]\n",
    "\n",
    "def num_occurrences(q6_list):\n",
    "    count_dict = {}\n",
    "    for item in q6_list:\n",
    "        if item in count_dict:\n",
    "            count_dict[item] += 1\n",
    "        else:\n",
    "            count_dict[item] = 1\n",
    "    return count_dict\n",
    "\n",
    "result = num_occurrences(q6_list)\n",
    "print(result) "
   ]
  },
  {
   "cell_type": "markdown",
   "metadata": {},
   "source": [
    "7. The object `nested_list` contains three lists as its elements. Write a nested loop function to \"flatten\" `nested_list`, and store the result in a variable named `flat_list`.\n",
    "\n",
    "answer: `['Austin', 'Isaac', 'Stephen', 456, 3.5, -29, 'Anita', 'Geoffrey']`"
   ]
  },
  {
   "cell_type": "code",
   "execution_count": 12,
   "metadata": {},
   "outputs": [
    {
     "name": "stdout",
     "output_type": "stream",
     "text": [
      "['Austin', 'Isaac', 'Stephen', 456, 3.5, -29, 'Anita', 'Geoffrey']\n"
     ]
    }
   ],
   "source": [
    "nested_list = [['Austin', 'Isaac', 'Stephen'], [456, 3.5, -29], ['Anita', 'Geoffrey']]\n",
    "\n",
    "def combine_lists(nested_list):\n",
    "    flat_list = []\n",
    "    for group in nested_list:\n",
    "        for item in group:\n",
    "            flat_list.append(item)\n",
    "    return flat_list\n",
    "    \n",
    "result = combine_lists(nested_list)\n",
    "print(result)"
   ]
  },
  {
   "cell_type": "markdown",
   "metadata": {},
   "source": [
    "8. Write a function that returns the total number of words, alphabet letters, and characters stored in a tuple object called `text_info`. A 'word' is defined as any sequence of alphabetic characters separated from the others by a `\" \"`, i.e. a space character.\n",
    "\n",
    "answer: `(158, 907, 1084)`"
   ]
  },
  {
   "cell_type": "code",
   "execution_count": 15,
   "metadata": {},
   "outputs": [
    {
     "name": "stdout",
     "output_type": "stream",
     "text": [
      "(158, 907, 1084)\n"
     ]
    }
   ],
   "source": [
    "# Excerpt from https://www.ibm.com/cloud/learn/data-science-introduction\n",
    "text = \"Data science is considered a discipline, while data scientists are the practitioners within that field. Data scientists are not necessarily directly responsible for all the processes involved in the data science lifecycle. For example, data pipelines are typically handled by data engineers, but the data scientist may make recommendations about what sort of data is useful or required. While data scientists can build machine learning models, scaling these efforts at a larger level requires more software engineering skills to optimize a program to run more quickly. As a result, it’s common for a data scientist to partner with machine learning engineers to scale machine learning models. Data scientist responsibilities can commonly overlap with a data analyst, particularly with exploratory data analysis and data visualization. However, a data scientist’s skillset is typically broader than the average data analyst. Comparatively speaking, data scientist leverage common programming languages, such as R and Python, to conduct more statistical inference and data visualization.\"\n",
    "\n",
    "def text_analysis(text):\n",
    "    num_words = len(text.split())\n",
    "    num_letters = sum(1 for char in text if char.isalpha())\n",
    "    num_chars = len(text)\n",
    "    text_info = (num_words, num_letters, num_chars)\n",
    "    return text_info\n",
    "    \n",
    "result = text_analysis(text)\n",
    "print(result)\n"
   ]
  },
  {
   "cell_type": "markdown",
   "metadata": {},
   "source": [
    "9. Write a function that counts the number of word occurrences in a text. Return a list of tuples with each tuple being each unique word followed by the number of occurences. sort the list by the number of occurences. \n",
    "\n",
    "answer: `[('data', 18), ('a', 7), ('the', 5)......]`"
   ]
  },
  {
   "cell_type": "code",
   "execution_count": 17,
   "metadata": {},
   "outputs": [
    {
     "name": "stdout",
     "output_type": "stream",
     "text": [
      "[('data', 18), ('a', 7), ('the', 5), ('to', 5), ('scientists', 4), ('scientist', 4), ('is', 3), ('are', 3), ('for', 3), ('machine', 3)]\n"
     ]
    }
   ],
   "source": [
    "# Excerpt from https://www.ibm.com/cloud/learn/data-science-introduction\n",
    "text = \"Data science is considered a discipline, while data scientists are the practitioners within that field. Data scientists are not necessarily directly responsible for all the processes involved in the data science lifecycle. For example, data pipelines are typically handled by data engineers, but the data scientist may make recommendations about what sort of data is useful or required. While data scientists can build machine learning models, scaling these efforts at a larger level requires more software engineering skills to optimize a program to run more quickly. As a result, its common for a data scientist to partner with machine learning engineers to scale machine learning models. Data scientist responsibilities can commonly overlap with a data analyst, particularly with exploratory data analysis and data visualization. However, a data scientists skillset is typically broader than the average data analyst. Comparatively speaking, data scientist leverage common programming languages, such as R and Python, to conduct more statistical inference and data visualization.\"\n",
    "\n",
    "import string\n",
    "\n",
    "def word_frequency(text):\n",
    "    # lowercase and remove punctuation\n",
    "    text = text.lower()\n",
    "    text = text.translate(str.maketrans('', '', string.punctuation))\n",
    "\n",
    "    # split into words\n",
    "    words = text.split()\n",
    "\n",
    "    # count occurrences\n",
    "    word_dict = {}\n",
    "    for word in words:\n",
    "        word_dict[word] = word_dict.get(word, 0) + 1\n",
    "\n",
    "    # convert to list of tuples and sort by frequency (descending)\n",
    "    sorted_word_list = sorted(word_dict.items(), key=lambda x: x[1], reverse=True)\n",
    "\n",
    "    return sorted_word_list\n",
    "\n",
    "result = word_frequency(text)\n",
    "print(result[:10])"
   ]
  },
  {
   "cell_type": "markdown",
   "metadata": {},
   "source": [
    "10. Modify the function in question 9 to include an argument to return a single tuple by index. For example, and index of `2` will return the tuple `('the', 5)`. Write docstrings for this function."
   ]
  },
  {
   "cell_type": "code",
   "execution_count": null,
   "metadata": {},
   "outputs": [
    {
     "name": "stdout",
     "output_type": "stream",
     "text": [
      "[('data', 18), ('a', 7), ('the', 5), ('to', 5), ('scientists', 4), ('scientist', 4), ('is', 3), ('are', 3), ('for', 3), ('machine', 3)]\n"
     ]
    }
   ],
   "source": [
    "# Excerpt from https://www.ibm.com/cloud/learn/data-science-introduction\n",
    "    \"\"\"\n",
    "    This function counts the number of word occurences in a text. \n",
    "    It returns a list of tuples with each tuple being a unique word followed by the number of occurrecnces.\n",
    "    The list is sorted by number of occurences.\n",
    "\n",
    "    Parameters\n",
    "    ----------\n",
    "    text: string\n",
    "        body of text that needs to be analyzed\n",
    "\n",
    "    Returns\n",
    "    -------\n",
    "    sorted_word_list\n",
    "        a list of each word in the text, sorted by number of occurences\n",
    "\n",
    "    \"\"\"\n",
    "\n",
    "text = \"Data science is considered a discipline, while data scientists are the practitioners within that field. Data scientists are not necessarily directly responsible for all the processes involved in the data science lifecycle. For example, data pipelines are typically handled by data engineers, but the data scientist may make recommendations about what sort of data is useful or required. While data scientists can build machine learning models, scaling these efforts at a larger level requires more software engineering skills to optimize a program to run more quickly. As a result, its common for a data scientist to partner with machine learning engineers to scale machine learning models. Data scientist responsibilities can commonly overlap with a data analyst, particularly with exploratory data analysis and data visualization. However, a data scientists skillset is typically broader than the average data analyst. Comparatively speaking, data scientist leverage common programming languages, such as R and Python, to conduct more statistical inference and data visualization.\"\n",
    "\n",
    "import string\n",
    "\n",
    "def word_frequency(text,index=None):\n",
    "    # lowercase and remove punctuation\n",
    "    text = text.lower()\n",
    "    text = text.translate(str.maketrans('', '', string.punctuation))\n",
    "\n",
    "    # split into words\n",
    "    words = text.split()\n",
    "\n",
    "    # count occurrences\n",
    "    word_dict = {}\n",
    "    for word in words:\n",
    "        word_dict[word] = word_dict.get(word, 0) + 1\n",
    "\n",
    "    # convert to list of tuples and sort by frequency (descending)\n",
    "    sorted_word_list = sorted(word_dict.items(), key=lambda x: x[1], reverse=True)\n",
    "    \n",
    "      # return specific index\n",
    "    if index is not None:\n",
    "        if 0 <= index < len(sorted_word_list):\n",
    "            return sorted_word_list[index]\n",
    "        else:\n",
    "            raise IndexError(\"Index out of range.\")\n",
    "\n",
    "    return sorted_word_list\n",
    "\n",
    "result = word_frequency(text)\n",
    "print(result[:10])"
   ]
  }
 ],
 "metadata": {
  "kernelspec": {
   "display_name": "base",
   "language": "python",
   "name": "python3"
  },
  "language_info": {
   "codemirror_mode": {
    "name": "ipython",
    "version": 3
   },
   "file_extension": ".py",
   "mimetype": "text/x-python",
   "name": "python",
   "nbconvert_exporter": "python",
   "pygments_lexer": "ipython3",
   "version": "3.13.2"
  }
 },
 "nbformat": 4,
 "nbformat_minor": 2
}
