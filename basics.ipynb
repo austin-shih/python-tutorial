{
 "cells": [
  {
   "cell_type": "code",
   "execution_count": 13,
   "metadata": {},
   "outputs": [],
   "source": [
    "import numpy as np\n",
    "from random import random"
   ]
  },
  {
   "cell_type": "markdown",
   "metadata": {},
   "source": [
    "## Loops & Functions"
   ]
  },
  {
   "cell_type": "markdown",
   "metadata": {},
   "source": [
    "1. Given the list `numbers` below, use a `for` loop and `if/else` statement that squares the even numbers, and cubes the odd numbers in `numbers`. Write a function that does this operation and save the new list of numbers in a object called `numbers_mod`.\n",
    "\n",
    "answer: `[1, 16, 343, 100]`"
   ]
  },
  {
   "cell_type": "code",
   "execution_count": 14,
   "metadata": {},
   "outputs": [],
   "source": [
    "numbers = [1, 4, 7, 10]\n"
   ]
  },
  {
   "cell_type": "markdown",
   "metadata": {},
   "source": [
    "2. Given this `sentence`: _\"Make this sentence more Pythonic!\"_, write a function to do the following:\n",
    "\n",
    "    1. Make all letters lowercase; \n",
    "    2. Replace spaces with underscores (`_`);\n",
    "    3. Remove these punctuation marks: `!`, `?`, `,` (comma), `'` (apostrophe)\n",
    "\n",
    "answer: `make_this_sentence_more_pythonic`"
   ]
  },
  {
   "cell_type": "code",
   "execution_count": 15,
   "metadata": {},
   "outputs": [],
   "source": [
    "sentence = \"Make this sentence more Pythonic!\""
   ]
  },
  {
   "cell_type": "markdown",
   "metadata": {},
   "source": [
    "3. Write a function that removes all duplicate items of a list, sorts the list in descending order, and finally returns it. \n",
    "\n",
    "answer: `[6, 5, 4, 3, 2, 1]`"
   ]
  },
  {
   "cell_type": "code",
   "execution_count": 16,
   "metadata": {},
   "outputs": [],
   "source": [
    "q3_list = [1, 1, 1, 2, 3, 4, 5, 5, 5, 6]\n"
   ]
  },
  {
   "cell_type": "markdown",
   "metadata": {},
   "source": [
    "4. Write a function that finds the minimum and maximum values stored inside a list of numerical values. Return as a tuple.\n",
    "\n",
    "answer: `(-100, 323)`"
   ]
  },
  {
   "cell_type": "code",
   "execution_count": 17,
   "metadata": {},
   "outputs": [],
   "source": [
    "numbers = [123, 4, 323, -0.3, 5, 15, -9, -100, 0, 5]"
   ]
  },
  {
   "cell_type": "markdown",
   "metadata": {},
   "source": [
    "5. Write a function that inserts a value in a list at a particular index.\n",
    "\n",
    "answer: `[3, 299, 387, 'item', 492, -398]`"
   ]
  },
  {
   "cell_type": "code",
   "execution_count": 18,
   "metadata": {},
   "outputs": [],
   "source": [
    "init_list = [3, 299, 387, 492, -398]\n",
    "value = 'item'\n",
    "index = 3"
   ]
  },
  {
   "cell_type": "markdown",
   "metadata": {},
   "source": [
    "6. Write a function that counts the number of occurrences in a list. Return a dictionary with the 'keys' being each of the unique element in the list and the 'values' being the number of occurrences.\n",
    "\n",
    "answer: `{1:3, 2:1, 3:1, 4:1, 5:3, 6:1}`"
   ]
  },
  {
   "cell_type": "code",
   "execution_count": 19,
   "metadata": {},
   "outputs": [],
   "source": [
    "q6_list = [1, 1, 1, 2, 3, 4, 5, 5, 5, 6]"
   ]
  },
  {
   "cell_type": "markdown",
   "metadata": {},
   "source": [
    "7. The object `nested_list` contains three lists as its elements. Write a nested loop function to \"flatten\" `nested_list`, and store the result in a variable named `flat_list`.\n",
    "\n",
    "answer: `['Austin', 'Isaac', 'Stephen', 456, 3.5, -29, 'Anita', 'Geoffrey']`"
   ]
  },
  {
   "cell_type": "code",
   "execution_count": 20,
   "metadata": {},
   "outputs": [],
   "source": [
    "nested_list = [['Austin', 'Isaac', 'Stephen'], [456, 3.5, -29], ['Anita', 'Geoffrey']]"
   ]
  },
  {
   "cell_type": "markdown",
   "metadata": {},
   "source": [
    "8. Write a function that returns the total number of words, alphabet letters, and characters stored in a tuple object called `text_info`. A 'word' is defined as any sequence of alphabetic characters separated from the others by a `\" \"`, i.e. a space character.\n",
    "\n",
    "answer: `(158, 907, 1084)`"
   ]
  },
  {
   "cell_type": "code",
   "execution_count": 21,
   "metadata": {},
   "outputs": [],
   "source": [
    "# Excerpt from https://www.ibm.com/cloud/learn/data-science-introduction\n",
    "text = \"Data science is considered a discipline, while data scientists are the practitioners within that field. Data scientists are not necessarily directly responsible for all the processes involved in the data science lifecycle. For example, data pipelines are typically handled by data engineers, but the data scientist may make recommendations about what sort of data is useful or required. While data scientists can build machine learning models, scaling these efforts at a larger level requires more software engineering skills to optimize a program to run more quickly. As a result, it’s common for a data scientist to partner with machine learning engineers to scale machine learning models. Data scientist responsibilities can commonly overlap with a data analyst, particularly with exploratory data analysis and data visualization. However, a data scientist’s skillset is typically broader than the average data analyst. Comparatively speaking, data scientist leverage common programming languages, such as R and Python, to conduct more statistical inference and data visualization.\""
   ]
  },
  {
   "cell_type": "markdown",
   "metadata": {},
   "source": [
    "9. Write a function that counts the number of word occurrences in a text. Return a list of tuples with each tuple being each unique word followed by the number of occurences. sort the list by the number of occurences. \n",
    "\n",
    "answer: `[('data', 18), ('a', 7), ('the', 5)......]`"
   ]
  },
  {
   "cell_type": "code",
   "execution_count": 22,
   "metadata": {},
   "outputs": [],
   "source": [
    "# Excerpt from https://www.ibm.com/cloud/learn/data-science-introduction\n",
    "text = \"Data science is considered a discipline, while data scientists are the practitioners within that field. Data scientists are not necessarily directly responsible for all the processes involved in the data science lifecycle. For example, data pipelines are typically handled by data engineers, but the data scientist may make recommendations about what sort of data is useful or required. While data scientists can build machine learning models, scaling these efforts at a larger level requires more software engineering skills to optimize a program to run more quickly. As a result, it’s common for a data scientist to partner with machine learning engineers to scale machine learning models. Data scientist responsibilities can commonly overlap with a data analyst, particularly with exploratory data analysis and data visualization. However, a data scientist’s skillset is typically broader than the average data analyst. Comparatively speaking, data scientist leverage common programming languages, such as R and Python, to conduct more statistical inference and data visualization.\""
   ]
  },
  {
   "cell_type": "markdown",
   "metadata": {},
   "source": [
    "10. Modify the function in question 9 to include an argument to return a single tuple by index. For example, and index of `2` will return the tuple `('the', 5)`. Write docstrings for this function."
   ]
  }
 ],
 "metadata": {
  "kernelspec": {
   "display_name": "base",
   "language": "python",
   "name": "python3"
  },
  "language_info": {
   "codemirror_mode": {
    "name": "ipython",
    "version": 3
   },
   "file_extension": ".py",
   "mimetype": "text/x-python",
   "name": "python",
   "nbconvert_exporter": "python",
   "pygments_lexer": "ipython3",
   "version": "3.10.6"
  }
 },
 "nbformat": 4,
 "nbformat_minor": 2
}
