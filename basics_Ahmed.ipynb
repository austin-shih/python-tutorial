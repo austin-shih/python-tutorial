{
 "cells": [
  {
   "cell_type": "code",
   "execution_count": 526,
   "metadata": {},
   "outputs": [],
   "source": [
    "import numpy as np\n",
    "import re\n",
    "from random import random"
   ]
  },
  {
   "cell_type": "markdown",
   "metadata": {},
   "source": [
    "## Instructions\n",
    "1. Create a branch from the remote repo and switch to working in your new branch\n",
    "2. Create a copy of this notebook and name it `basics_yourname.ipynb`\n",
    "2. Finish the workbook\n",
    "3. Add, commit, and push your changes using Git Bash\n",
    "4. Go to the GitHub repo and initiate a pull request "
   ]
  },
  {
   "cell_type": "markdown",
   "metadata": {},
   "source": [
    "## Loops & Functions"
   ]
  },
  {
   "cell_type": "markdown",
   "metadata": {},
   "source": []
  },
  {
   "cell_type": "markdown",
   "metadata": {},
   "source": [
    "1. Given the list `numbers` below, use a `for` loop and `if/else` statement that squares the even numbers, and cubes the odd numbers in `numbers`. Write a function that does this operation and save the new list of numbers in a object called `numbers_mod`.\n",
    "\n",
    "answer: `[1, 16, 343, 100]`"
   ]
  },
  {
   "cell_type": "code",
   "execution_count": 527,
   "metadata": {},
   "outputs": [
    {
     "name": "stdout",
     "output_type": "stream",
     "text": [
      "[1, 16, 343, 100]\n"
     ]
    }
   ],
   "source": [
    "numbers = [1, 4, 7, 10]\n",
    "for i in range(len(numbers)):\n",
    "    if numbers[i] %2 == 1:\n",
    "        numbers[i]=numbers[i]**3\n",
    "    else: \n",
    "        numbers[i]=numbers[i]**2\n",
    "\n",
    "print(numbers)"
   ]
  },
  {
   "cell_type": "markdown",
   "metadata": {},
   "source": [
    "2. Given this `sentence`: _\"Make this sentence more Pythonic!\"_, write a function to do the following:\n",
    "\n",
    "    1. Make all letters lowercase; \n",
    "    2. Replace spaces with underscores (`_`);\n",
    "    3. Remove these punctuation marks: `!`, `?`, `,` (comma), `'` (apostrophe)\n",
    "\n",
    "answer: `make_this_sentence_more_pythonic`"
   ]
  },
  {
   "cell_type": "code",
   "execution_count": 528,
   "metadata": {},
   "outputs": [
    {
     "name": "stdout",
     "output_type": "stream",
     "text": [
      "make_this_sentence_more_pythonic\n"
     ]
    }
   ],
   "source": [
    "sentence = \"Make this sentence more Pythonic!\"\n",
    "sentence=sentence.lower()\n",
    "sentence=sentence.replace(\" \", \"_\")\n",
    "sentence=re.sub(\"[!?,']\", \"\",sentence)\n",
    "print(sentence)"
   ]
  },
  {
   "cell_type": "markdown",
   "metadata": {},
   "source": [
    "3. Write a function that removes all duplicate items of a list, sorts the list in descending order, and finally returns it. \n",
    "\n",
    "answer: `[6, 5, 4, 3, 2, 1]`"
   ]
  },
  {
   "cell_type": "code",
   "execution_count": 529,
   "metadata": {},
   "outputs": [
    {
     "name": "stdout",
     "output_type": "stream",
     "text": [
      "[6, 5, 4, 3, 2, 1]\n"
     ]
    }
   ],
   "source": [
    "q3_list = [1, 1, 1, 2, 3, 4, 5, 5, 5, 6]\n",
    "q3_list=list(set(q3_list))\n",
    "q3_list.sort(reverse=True)\n",
    "print(q3_list)"
   ]
  },
  {
   "cell_type": "markdown",
   "metadata": {},
   "source": [
    "4. Write a function that finds the minimum and maximum values stored inside a list of numerical values. Return as a tuple.\n",
    "\n",
    "answer: `(-100, 323)`"
   ]
  },
  {
   "cell_type": "code",
   "execution_count": 530,
   "metadata": {},
   "outputs": [
    {
     "name": "stdout",
     "output_type": "stream",
     "text": [
      "[-100, 323]\n"
     ]
    }
   ],
   "source": [
    "numbers = [123, 4, 323, -0.3, 5, 15, -9, -100, 0, 5]\n",
    "minmax=[min(numbers),max(numbers)]\n",
    "print(minmax)"
   ]
  },
  {
   "cell_type": "markdown",
   "metadata": {},
   "source": [
    "5. Write a function that inserts a value in a list at a particular index.\n",
    "\n",
    "answer: `[3, 299, 387, 'item', 492, -398]`"
   ]
  },
  {
   "cell_type": "code",
   "execution_count": 531,
   "metadata": {},
   "outputs": [
    {
     "name": "stdout",
     "output_type": "stream",
     "text": [
      "[3, 299, 387, 'item', 492, -398]\n"
     ]
    }
   ],
   "source": [
    "init_list = [3, 299, 387, 492, -398]\n",
    "value = 'item'\n",
    "index = 3\n",
    "init_list.insert(index,value)\n",
    "print(init_list)"
   ]
  },
  {
   "cell_type": "markdown",
   "metadata": {},
   "source": [
    "6. Write a function that counts the number of occurrences in a list. Return a dictionary with the 'keys' being each of the unique element in the list and the 'values' being the number of occurrences.\n",
    "\n",
    "answer: `{1:3, 2:1, 3:1, 4:1, 5:3, 6:1}`"
   ]
  },
  {
   "cell_type": "code",
   "execution_count": 532,
   "metadata": {},
   "outputs": [
    {
     "name": "stdout",
     "output_type": "stream",
     "text": [
      "[(1, 3), (5, 3), (2, 1), (3, 1), (4, 1), (6, 1)]\n"
     ]
    }
   ],
   "source": [
    "q6_list = [1, 1, 1, 2, 3, 4, 5, 5, 5, 6]\n",
    "def return_dict(filler):\n",
    "    counts={}\n",
    "    for word in filler:\n",
    "        counts[word]=counts.get(word,0)+1 \n",
    "    counts=sorted(counts.items(), key=lambda x: x[1], reverse=True)\n",
    "    return counts\n",
    "\n",
    "new_list=return_dict(q6_list)\n",
    "print(new_list)"
   ]
  },
  {
   "cell_type": "markdown",
   "metadata": {},
   "source": [
    "7. The object `nested_list` contains three lists as its elements. Write a nested loop function to \"flatten\" `nested_list`, and store the result in a variable named `flat_list`.\n",
    "\n",
    "answer: `['Austin', 'Isaac', 'Stephen', 456, 3.5, -29, 'Anita', 'Geoffrey']`"
   ]
  },
  {
   "cell_type": "code",
   "execution_count": 533,
   "metadata": {},
   "outputs": [
    {
     "name": "stdout",
     "output_type": "stream",
     "text": [
      "['Austin', 'Isaac', 'Stephen', 456, 3.5, -29, 'Anita', 'Geoffrey']\n"
     ]
    }
   ],
   "source": [
    "nested_list = [['Austin', 'Isaac', 'Stephen'], [456, 3.5, -29], ['Anita', 'Geoffrey']]\n",
    "new_list=[]\n",
    "for i in range(len(nested_list)):\n",
    "    for j in range(len(nested_list[i])):\n",
    "        new_list.append(nested_list[i][j])\n",
    "\n",
    "print(new_list)"
   ]
  },
  {
   "cell_type": "markdown",
   "metadata": {},
   "source": [
    "8. Write a function that returns the total number of words, alphabet letters, and characters stored in a tuple object called `text_info`. A 'word' is defined as any sequence of alphabetic characters separated from the others by a `\" \"`, i.e. a space character.\n",
    "\n",
    "answer: `(158, 907, 1084)`"
   ]
  },
  {
   "cell_type": "code",
   "execution_count": 534,
   "metadata": {},
   "outputs": [
    {
     "name": "stdout",
     "output_type": "stream",
     "text": [
      "[158, 909, 1084]\n"
     ]
    }
   ],
   "source": [
    "# Excerpt from https://www.ibm.com/cloud/learn/data-science-introduction\n",
    "text = \"Data science is considered a discipline, while data scientists are the practitioners within that field. Data scientists are not necessarily directly responsible for all the processes involved in the data science lifecycle. For example, data pipelines are typically handled by data engineers, but the data scientist may make recommendations about what sort of data is useful or required. While data scientists can build machine learning models, scaling these efforts at a larger level requires more software engineering skills to optimize a program to run more quickly. As a result, it’s common for a data scientist to partner with machine learning engineers to scale machine learning models. Data scientist responsibilities can commonly overlap with a data analyst, particularly with exploratory data analysis and data visualization. However, a data scientist’s skillset is typically broader than the average data analyst. Comparatively speaking, data scientist leverage common programming languages, such as R and Python, to conduct more statistical inference and data visualization.\"\n",
    "def sentence_info(filler):\n",
    "    letters=re.sub(\"[!?,'. ]\", \"\",filler)\n",
    "\n",
    "    text_info=[text.count(\" \")+1,len(letters),len(filler)]\n",
    "    return text_info\n",
    "\n",
    "text_info=sentence_info(text)\n",
    "print(text_info)"
   ]
  },
  {
   "cell_type": "markdown",
   "metadata": {},
   "source": [
    "9. Write a function that counts the number of word occurrences in a text. Return a list of tuples with each tuple being each unique word followed by the number of occurences. sort the list by the number of occurences. \n",
    "\n",
    "answer: `[('data', 18), ('a', 7), ('the', 5)......]`"
   ]
  },
  {
   "cell_type": "code",
   "execution_count": 535,
   "metadata": {},
   "outputs": [
    {
     "name": "stdout",
     "output_type": "stream",
     "text": [
      "[('data', 18), ('a', 7), ('the', 5), ('to', 5), ('scientist', 4), ('is', 3), ('scientists', 3), ('are', 3), ('for', 3), ('machine', 3), ('learning', 3), ('more', 3), ('with', 3), ('and', 3), ('science', 2), ('while', 2), ('typically', 2), ('engineers', 2), ('can', 2), ('models', 2), ('as', 2), ('common', 2), ('analyst', 2), ('visualization', 2), ('considered', 1), ('discipline', 1), ('practitioners', 1), ('within', 1), ('that', 1), ('field', 1), ('not', 1), ('necessarily', 1), ('directly', 1), ('responsible', 1), ('all', 1), ('processes', 1), ('involved', 1), ('in', 1), ('lifecycle', 1), ('example', 1), ('pipelines', 1), ('handled', 1), ('by', 1), ('but', 1), ('may', 1), ('make', 1), ('recommendations', 1), ('about', 1), ('what', 1), ('sort', 1), ('of', 1), ('useful', 1), ('or', 1), ('required', 1), ('build', 1), ('scaling', 1), ('these', 1), ('efforts', 1), ('at', 1), ('larger', 1), ('level', 1), ('requires', 1), ('software', 1), ('engineering', 1), ('skills', 1), ('optimize', 1), ('program', 1), ('run', 1), ('quickly', 1), ('result', 1), ('it’s', 1), ('partner', 1), ('scale', 1), ('responsibilities', 1), ('commonly', 1), ('overlap', 1), ('particularly', 1), ('exploratory', 1), ('analysis', 1), ('however', 1), ('scientist’s', 1), ('skillset', 1), ('broader', 1), ('than', 1), ('average', 1), ('comparatively', 1), ('speaking', 1), ('leverage', 1), ('programming', 1), ('languages', 1), ('such', 1), ('r', 1), ('python', 1), ('conduct', 1), ('statistical', 1), ('inference', 1)]\n"
     ]
    }
   ],
   "source": [
    "# Excerpt from https://www.ibm.com/cloud/learn/data-science-introduction\n",
    "text = \"Data science is considered a discipline, while data scientists are the practitioners within that field. Data scientists are not necessarily directly responsible for all the processes involved in the data science lifecycle. For example, data pipelines are typically handled by data engineers, but the data scientist may make recommendations about what sort of data is useful or required. While data scientists can build machine learning models, scaling these efforts at a larger level requires more software engineering skills to optimize a program to run more quickly. As a result, it’s common for a data scientist to partner with machine learning engineers to scale machine learning models. Data scientist responsibilities can commonly overlap with a data analyst, particularly with exploratory data analysis and data visualization. However, a data scientist’s skillset is typically broader than the average data analyst. Comparatively speaking, data scientist leverage common programming languages, such as R and Python, to conduct more statistical inference and data visualization.\"\n",
    "def sort_count_list(filler):\n",
    "    words=re.sub(\"[!?,.]\", \"\",filler)\n",
    "    wordlist=words.lower().split()\n",
    "    counts=return_dict(wordlist)\n",
    "    return counts\n",
    "\n",
    "counts=sort_count_list(text)\n",
    "print(counts)\n",
    "\n"
   ]
  },
  {
   "cell_type": "markdown",
   "metadata": {},
   "source": [
    "10. Modify the function in question 9 to include an argument to return a single tuple by index. For example, and index of `2` will return the tuple `('the', 5)`. Write docstrings for this function."
   ]
  },
  {
   "cell_type": "markdown",
   "metadata": {},
   "source": []
  },
  {
   "cell_type": "code",
   "execution_count": 536,
   "metadata": {},
   "outputs": [
    {
     "name": "stdout",
     "output_type": "stream",
     "text": [
      "('the', 5)\n"
     ]
    }
   ],
   "source": [
    "def repeated_count(text, index):\n",
    "    \"\"\"sorts and counts the number of each unique word in descending order\n",
    "    then spits out the word and word count of the index\n",
    "    \"\"\"\n",
    "    words=re.sub(\"[!?,.]\", \"\",text)\n",
    "    wordlist=words.lower().split()\n",
    "    counts=return_dict(wordlist)\n",
    "\n",
    "    return counts[index]\n",
    "\n",
    "print(repeated_count(text,2))"
   ]
  }
 ],
 "metadata": {
  "kernelspec": {
   "display_name": "base",
   "language": "python",
   "name": "python3"
  },
  "language_info": {
   "codemirror_mode": {
    "name": "ipython",
    "version": 3
   },
   "file_extension": ".py",
   "mimetype": "text/x-python",
   "name": "python",
   "nbconvert_exporter": "python",
   "pygments_lexer": "ipython3",
   "version": "3.13.2"
  }
 },
 "nbformat": 4,
 "nbformat_minor": 2
}
